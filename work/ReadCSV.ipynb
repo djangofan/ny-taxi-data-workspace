{
 "cells": [
  {
   "cell_type": "code",
   "execution_count": 2,
   "metadata": {},
   "outputs": [
    {
     "name": "stdout",
     "output_type": "stream",
     "text": [
      "\u001b[32m\u001b[1m  Updating\u001b[22m\u001b[39m registry at `~/.julia/registries/General`\n",
      "\u001b[32m\u001b[1m  Updating\u001b[22m\u001b[39m git-repo `https://github.com/JuliaRegistries/General.git`\n",
      "\u001b[2K\u001b[?25h[1mFetching:\u001b[22m\u001b[39m [========================================>]  99.9 %0.0 %14.1 %>                            ]  28.2 %>                   ]  52.4 %===========================>             ]  66.5 %2 %      ]  83.3 % [======================================>  ]  93.4 %\u001b[32m\u001b[1m Resolving\u001b[22m\u001b[39m package versions...\n",
      "\u001b[32m\u001b[1m Installed\u001b[22m\u001b[39m Conda ────────── v1.1.1\n",
      "\u001b[32m\u001b[1m Installed\u001b[22m\u001b[39m NLSolversBase ── v7.1.1\n",
      "\u001b[32m\u001b[1m Installed\u001b[22m\u001b[39m BinaryProvider ─ v0.5.1\n",
      "\u001b[32m\u001b[1m Installed\u001b[22m\u001b[39m IterTools ────── v1.1.0\n",
      "\u001b[32m\u001b[1m Installed\u001b[22m\u001b[39m IJulia ───────── v1.13.0\n",
      "\u001b[32m\u001b[1m Installed\u001b[22m\u001b[39m Compat ───────── v1.3.0\n",
      "\u001b[32m\u001b[1m Installed\u001b[22m\u001b[39m DataFrames ───── v0.14.1\n",
      "\u001b[32m\u001b[1m  Updating\u001b[22m\u001b[39m `~/.julia/environments/v1.0/Project.toml`\n",
      " \u001b[90m [336ed68f]\u001b[39m\u001b[92m + CSV v0.4.1\u001b[39m\n",
      " \u001b[90m [7073ff75]\u001b[39m\u001b[93m ↑ IJulia v1.12.0 ⇒ v1.13.0\u001b[39m\n",
      "\u001b[32m\u001b[1m  Updating\u001b[22m\u001b[39m `~/.julia/environments/v1.0/Manifest.toml`\n",
      " \u001b[90m [b99e7846]\u001b[39m\u001b[93m ↑ BinaryProvider v0.5.0 ⇒ v0.5.1\u001b[39m\n",
      " \u001b[90m [34da2185]\u001b[39m\u001b[93m ↑ Compat v1.2.0 ⇒ v1.3.0\u001b[39m\n",
      " \u001b[90m [8f4d0f93]\u001b[39m\u001b[93m ↑ Conda v1.0.2 ⇒ v1.1.1\u001b[39m\n",
      " \u001b[90m [a93c6f00]\u001b[39m\u001b[93m ↑ DataFrames v0.14.0 ⇒ v0.14.1\u001b[39m\n",
      " \u001b[90m [7073ff75]\u001b[39m\u001b[93m ↑ IJulia v1.12.0 ⇒ v1.13.0\u001b[39m\n",
      " \u001b[90m [c8e1da08]\u001b[39m\u001b[93m ↑ IterTools v1.0.0 ⇒ v1.1.0\u001b[39m\n",
      " \u001b[90m [d41bc354]\u001b[39m\u001b[93m ↑ NLSolversBase v7.1.0 ⇒ v7.1.1\u001b[39m\n",
      "\u001b[32m\u001b[1m  Building\u001b[22m\u001b[39m Conda ─→ `~/.julia/packages/Conda/uQitS/deps/build.log`\n",
      "\u001b[32m\u001b[1m  Building\u001b[22m\u001b[39m IJulia → `~/.julia/packages/IJulia/0cLgR/deps/build.log`\n",
      "\u001b[32m\u001b[1m Resolving\u001b[22m\u001b[39m package versions...\n",
      "\u001b[32m\u001b[1m  Updating\u001b[22m\u001b[39m `~/.julia/environments/v1.0/Project.toml`\n",
      " \u001b[90m [a93c6f00]\u001b[39m\u001b[92m + DataFrames v0.14.1\u001b[39m\n",
      "\u001b[32m\u001b[1m  Updating\u001b[22m\u001b[39m `~/.julia/environments/v1.0/Manifest.toml`\n",
      "\u001b[90m [no changes]\u001b[39m\n",
      "\u001b[32m\u001b[1m Resolving\u001b[22m\u001b[39m package versions...\n",
      "\u001b[32m\u001b[1m Installed\u001b[22m\u001b[39m CPUTime ─ v0.1.0\n",
      "\u001b[32m\u001b[1m  Updating\u001b[22m\u001b[39m `~/.julia/environments/v1.0/Project.toml`\n",
      " \u001b[90m [a9c8d775]\u001b[39m\u001b[92m + CPUTime v0.1.0\u001b[39m\n",
      "\u001b[32m\u001b[1m  Updating\u001b[22m\u001b[39m `~/.julia/environments/v1.0/Manifest.toml`\n",
      " \u001b[90m [a9c8d775]\u001b[39m\u001b[92m + CPUTime v0.1.0\u001b[39m\n",
      "\u001b[32m\u001b[1m Resolving\u001b[22m\u001b[39m package versions...\n",
      "\u001b[32m\u001b[1m Installed\u001b[22m\u001b[39m Graphics ───────── v0.4.0\n",
      "\u001b[32m\u001b[1m Installed\u001b[22m\u001b[39m RoundingIntegers ─ v0.2.0\n",
      "\u001b[32m\u001b[1m Installed\u001b[22m\u001b[39m IntervalSets ───── v0.3.0\n",
      "\u001b[32m\u001b[1m Installed\u001b[22m\u001b[39m Reactive ───────── v0.8.2\n",
      "\u001b[32m\u001b[1m Installed\u001b[22m\u001b[39m ProfileView ────── v0.4.0\n",
      "\u001b[32m\u001b[1m Installed\u001b[22m\u001b[39m GtkReactive ────── v0.5.2\n",
      "\u001b[32m\u001b[1m Installed\u001b[22m\u001b[39m Gtk ────────────── v0.16.4\n",
      "\u001b[32m\u001b[1m Installed\u001b[22m\u001b[39m Cairo ──────────── v0.5.6\n",
      "\u001b[32m\u001b[1m  Updating\u001b[22m\u001b[39m `~/.julia/environments/v1.0/Project.toml`\n",
      " \u001b[90m [c46f51b8]\u001b[39m\u001b[92m + ProfileView v0.4.0\u001b[39m\n",
      "\u001b[32m\u001b[1m  Updating\u001b[22m\u001b[39m `~/.julia/environments/v1.0/Manifest.toml`\n",
      " \u001b[90m [159f3aea]\u001b[39m\u001b[92m + Cairo v0.5.6\u001b[39m\n",
      " \u001b[90m [a2bd30eb]\u001b[39m\u001b[92m + Graphics v0.4.0\u001b[39m\n",
      " \u001b[90m [4c0ca9eb]\u001b[39m\u001b[92m + Gtk v0.16.4\u001b[39m\n",
      " \u001b[90m [27996c0f]\u001b[39m\u001b[92m + GtkReactive v0.5.2\u001b[39m\n",
      " \u001b[90m [8197267c]\u001b[39m\u001b[92m + IntervalSets v0.3.0\u001b[39m\n",
      " \u001b[90m [c46f51b8]\u001b[39m\u001b[92m + ProfileView v0.4.0\u001b[39m\n",
      " \u001b[90m [a223df75]\u001b[39m\u001b[92m + Reactive v0.8.2\u001b[39m\n",
      " \u001b[90m [d5f540fe]\u001b[39m\u001b[92m + RoundingIntegers v0.2.0\u001b[39m\n",
      "\u001b[32m\u001b[1m  Building\u001b[22m\u001b[39m Cairo → `~/.julia/packages/Cairo/CXPG1/deps/build.log`\n"
     ]
    },
    {
     "name": "stderr",
     "output_type": "stream",
     "text": [
      "┌ Error: Error building `Cairo`, showing the last 100 of log: \n",
      "│ libtool: link: gcc -g -O2 -Wl,-rpath -Wl,/home/jovyan/.julia/packages/Cairo/CXPG1/deps/usr/lib -o .libs/testlocale testlocale.o  -L/home/jovyan/.julia/packages/Cairo/CXPG1/deps/usr/lib ../intl/.libs/libgnuintl.so -lc -Wl,-rpath -Wl,/home/jovyan/.julia/packages/Cairo/CXPG1/deps/usr/lib\n",
      "│ /bin/bash ../libtool  --tag=CC   --mode=link gcc -DUSE_POSIX_THREADS -g -O2  -L/home/jovyan/.julia/packages/Cairo/CXPG1/deps/usr/lib -Wl,-rpath -Wl,/home/jovyan/.julia/packages/Cairo/CXPG1/deps/usr/lib -o gettext-7-prg gettext_7_prg-gettext-7-prg.o ../gnulib-lib/libgettextlib.la ../intl/libgnuintl.la    -lpthread \n",
      "│ libtool: link: gcc -g -O2 -Wl,-rpath -Wl,/home/jovyan/.julia/packages/Cairo/CXPG1/deps/usr/lib -o .libs/gettext-5-prg gettext-5-prg.o  -L/home/jovyan/.julia/packages/Cairo/CXPG1/deps/usr/lib ../gnulib-lib/.libs/libgettextlib.so ../intl/.libs/libgnuintl.so -lc -fopenmp -Wl,-rpath -Wl,/home/jovyan/.julia/packages/Cairo/CXPG1/deps/usr/lib\n",
      "│ /bin/bash ../libtool  --tag=CC   --mode=link gcc  -g -O2  -L/home/jovyan/.julia/packages/Cairo/CXPG1/deps/usr/lib -Wl,-rpath -Wl,/home/jovyan/.julia/packages/Cairo/CXPG1/deps/usr/lib -o gettext-8-prg gettext-8-prg.o ../gnulib-lib/libgettextlib.la ../intl/libgnuintl.la    \n",
      "│ libtool: link: gcc -DUSE_POSIX_THREADS -g -O2 -Wl,-rpath -Wl,/home/jovyan/.julia/packages/Cairo/CXPG1/deps/usr/lib -o .libs/gettext-6-prg gettext_6_prg-gettext-6-prg.o  -L/home/jovyan/.julia/packages/Cairo/CXPG1/deps/usr/lib ../gnulib-lib/.libs/libgettextlib.so ../intl/.libs/libgnuintl.so -lc -lpthread -fopenmp -Wl,-rpath -Wl,/home/jovyan/.julia/packages/Cairo/CXPG1/deps/usr/lib\n",
      "│ libtool: link: gcc -g -O2 -Wl,-rpath -Wl,/home/jovyan/.julia/packages/Cairo/CXPG1/deps/usr/lib -o .libs/gettext-3-prg gettext-3-prg.o  -L/home/jovyan/.julia/packages/Cairo/CXPG1/deps/usr/lib ../gnulib-lib/.libs/libgettextlib.so ../intl/.libs/libgnuintl.so -lc -fopenmp -Wl,-rpath -Wl,/home/jovyan/.julia/packages/Cairo/CXPG1/deps/usr/lib\n",
      "│ /bin/bash ../libtool  --tag=CC   --mode=link gcc  -g -O2  -L/home/jovyan/.julia/packages/Cairo/CXPG1/deps/usr/lib -Wl,-rpath -Wl,/home/jovyan/.julia/packages/Cairo/CXPG1/deps/usr/lib -o cake plural-1-prg.o setlocale.o ../gnulib-lib/libgettextlib.la ../intl/libgnuintl.la    \n",
      "│ libtool: link: gcc -DINSTALLDIR=\\\".\\\" -g -O2 -Wl,-rpath -Wl,/home/jovyan/.julia/packages/Cairo/CXPG1/deps/usr/lib -o .libs/tstngettext tstngettext-tstngettext.o tstngettext-setlocale.o  -L/home/jovyan/.julia/packages/Cairo/CXPG1/deps/usr/lib ../gnulib-lib/.libs/libgettextlib.so ../intl/.libs/libgnuintl.so -lc -fopenmp -Wl,-rpath -Wl,/home/jovyan/.julia/packages/Cairo/CXPG1/deps/usr/lib\n",
      "│ /bin/bash ../libtool  --tag=CC   --mode=link gcc  -g -O2  -L/home/jovyan/.julia/packages/Cairo/CXPG1/deps/usr/lib -Wl,-rpath -Wl,/home/jovyan/.julia/packages/Cairo/CXPG1/deps/usr/lib -o fc3 format-c-3-prg.o setlocale.o ../gnulib-lib/libgettextlib.la ../intl/libgnuintl.la    \n",
      "│ libtool: link: gcc -g -O2 -Wl,-rpath -Wl,/home/jovyan/.julia/packages/Cairo/CXPG1/deps/usr/lib -o .libs/gettext-4-prg gettext-4-prg.o  -L/home/jovyan/.julia/packages/Cairo/CXPG1/deps/usr/lib ../gnulib-lib/.libs/libgettextlib.so ../intl/.libs/libgnuintl.so -lc -fopenmp -Wl,-rpath -Wl,/home/jovyan/.julia/packages/Cairo/CXPG1/deps/usr/lib\n",
      "│ /bin/bash ../libtool  --tag=CC   --mode=link gcc  -g -O2  -L/home/jovyan/.julia/packages/Cairo/CXPG1/deps/usr/lib -Wl,-rpath -Wl,/home/jovyan/.julia/packages/Cairo/CXPG1/deps/usr/lib -o fc4 format-c-4-prg.o setlocale.o ../gnulib-lib/libgettextlib.la ../intl/libgnuintl.la    \n",
      "│ /bin/bash ../libtool  --tag=CC   --mode=link gcc  -g -O2  -L/home/jovyan/.julia/packages/Cairo/CXPG1/deps/usr/lib -Wl,-rpath -Wl,/home/jovyan/.julia/packages/Cairo/CXPG1/deps/usr/lib -o fc5 format-c-5-prg.o ../gnulib-lib/libgettextlib.la ../intl/libgnuintl.la    \n",
      "│ libtool: link: gcc -DUSE_POSIX_THREADS -g -O2 -Wl,-rpath -Wl,/home/jovyan/.julia/packages/Cairo/CXPG1/deps/usr/lib -o .libs/gettext-7-prg gettext_7_prg-gettext-7-prg.o  -L/home/jovyan/.julia/packages/Cairo/CXPG1/deps/usr/lib ../gnulib-lib/.libs/libgettextlib.so ../intl/.libs/libgnuintl.so -lc -lpthread -fopenmp -Wl,-rpath -Wl,/home/jovyan/.julia/packages/Cairo/CXPG1/deps/usr/lib\n",
      "│ libtool: link: gcc -g -O2 -Wl,-rpath -Wl,/home/jovyan/.julia/packages/Cairo/CXPG1/deps/usr/lib -o .libs/cake plural-1-prg.o setlocale.o  -L/home/jovyan/.julia/packages/Cairo/CXPG1/deps/usr/lib ../gnulib-lib/.libs/libgettextlib.so ../intl/.libs/libgnuintl.so -lc -fopenmp -Wl,-rpath -Wl,/home/jovyan/.julia/packages/Cairo/CXPG1/deps/usr/lib\n",
      "│ libtool: link: gcc -g -O2 -Wl,-rpath -Wl,/home/jovyan/.julia/packages/Cairo/CXPG1/deps/usr/lib -o .libs/gettext-8-prg gettext-8-prg.o  -L/home/jovyan/.julia/packages/Cairo/CXPG1/deps/usr/lib ../gnulib-lib/.libs/libgettextlib.so ../intl/.libs/libgnuintl.so -lc -fopenmp -Wl,-rpath -Wl,/home/jovyan/.julia/packages/Cairo/CXPG1/deps/usr/lib\n",
      "│ libtool: link: gcc -g -O2 -Wl,-rpath -Wl,/home/jovyan/.julia/packages/Cairo/CXPG1/deps/usr/lib -o .libs/fc3 format-c-3-prg.o setlocale.o  -L/home/jovyan/.julia/packages/Cairo/CXPG1/deps/usr/lib ../gnulib-lib/.libs/libgettextlib.so ../intl/.libs/libgnuintl.so -lc -fopenmp -Wl,-rpath -Wl,/home/jovyan/.julia/packages/Cairo/CXPG1/deps/usr/lib\n",
      "│ libtool: link: gcc -g -O2 -Wl,-rpath -Wl,/home/jovyan/.julia/packages/Cairo/CXPG1/deps/usr/lib -o .libs/fc4 format-c-4-prg.o setlocale.o  -L/home/jovyan/.julia/packages/Cairo/CXPG1/deps/usr/lib ../gnulib-lib/.libs/libgettextlib.so ../intl/.libs/libgnuintl.so -lc -fopenmp -Wl,-rpath -Wl,/home/jovyan/.julia/packages/Cairo/CXPG1/deps/usr/lib\n",
      "│ libtool: link: gcc -g -O2 -Wl,-rpath -Wl,/home/jovyan/.julia/packages/Cairo/CXPG1/deps/usr/lib -o .libs/fc5 format-c-5-prg.o  -L/home/jovyan/.julia/packages/Cairo/CXPG1/deps/usr/lib ../gnulib-lib/.libs/libgettextlib.so ../intl/.libs/libgnuintl.so -lc -fopenmp -Wl,-rpath -Wl,/home/jovyan/.julia/packages/Cairo/CXPG1/deps/usr/lib\n",
      "│ /bin/bash ../libtool  --tag=CC   --mode=link gcc  -g -O2  -L/home/jovyan/.julia/packages/Cairo/CXPG1/deps/usr/lib -Wl,-rpath -Wl,/home/jovyan/.julia/packages/Cairo/CXPG1/deps/usr/lib -o gettextpo-1-prg gettextpo_1_prg-gettextpo-1-prg.o ../libgettextpo/libgettextpo.la ../intl/libgnuintl.la    \n",
      "│ libtool: link: gcc -g -O2 -Wl,-rpath -Wl,/home/jovyan/.julia/packages/Cairo/CXPG1/deps/usr/lib -o .libs/gettextpo-1-prg gettextpo_1_prg-gettextpo-1-prg.o  -L/home/jovyan/.julia/packages/Cairo/CXPG1/deps/usr/lib ../libgettextpo/.libs/libgettextpo.so ../intl/.libs/libgnuintl.so -lc -Wl,-rpath -Wl,/home/jovyan/.julia/packages/Cairo/CXPG1/deps/usr/lib\n",
      "│ make[3]: Leaving directory '/home/jovyan/.julia/packages/Cairo/CXPG1/deps/builds/gettext/gettext-tools/tests'\n",
      "│ Making all in gnulib-tests\n",
      "│ make[3]: Entering directory '/home/jovyan/.julia/packages/Cairo/CXPG1/deps/builds/gettext/gettext-tools/gnulib-tests'\n",
      "│ rm -f c++defs.h-t c++defs.h && \\\n",
      "│ sed -n -e '/_GL_CXXDEFS/,$p' \\\n",
      "│   < /home/jovyan/.julia/packages/Cairo/CXPG1/deps/src/gettext-0.18.2/gettext-tools/../build-aux/snippet/c++defs.h \\\n",
      "│   > c++defs.h-t && \\\n",
      "│ mv c++defs.h-t c++defs.h\n",
      "│ rm -f warn-on-use.h-t warn-on-use.h && \\\n",
      "│ sed -n -e '/^.ifndef/,$p' \\\n",
      "│   < /home/jovyan/.julia/packages/Cairo/CXPG1/deps/src/gettext-0.18.2/gettext-tools/../build-aux/snippet/warn-on-use.h \\\n",
      "│   > warn-on-use.h-t && \\\n",
      "│ mv warn-on-use.h-t warn-on-use.h\n",
      "│ rm -f arg-nonnull.h-t arg-nonnull.h && \\\n",
      "│ sed -n -e '/GL_ARG_NONNULL/,$p' \\\n",
      "│   < /home/jovyan/.julia/packages/Cairo/CXPG1/deps/src/gettext-0.18.2/gettext-tools/../build-aux/snippet/arg-nonnull.h \\\n",
      "│   > arg-nonnull.h-t && \\\n",
      "│ mv arg-nonnull.h-t arg-nonnull.h\n",
      "│ rm -f test-posix_spawn1.sh-t test-posix_spawn1.sh && \\\n",
      "│ cp /home/jovyan/.julia/packages/Cairo/CXPG1/deps/src/gettext-0.18.2/gettext-tools/gnulib-tests/test-posix_spawn1.in.sh test-posix_spawn1.sh-t && \\\n",
      "│ mv test-posix_spawn1.sh-t test-posix_spawn1.sh\n",
      "│ rm -f test-posix_spawn2.sh-t test-posix_spawn2.sh && \\\n",
      "│ cp /home/jovyan/.julia/packages/Cairo/CXPG1/deps/src/gettext-0.18.2/gettext-tools/gnulib-tests/test-posix_spawn2.in.sh test-posix_spawn2.sh-t && \\\n",
      "│ mv test-posix_spawn2.sh-t test-posix_spawn2.sh\n",
      "│ rm -f unused-parameter.h-t unused-parameter.h && \\\n",
      "│ sed -n -e '/GL_UNUSED_PARAMETER/,$p' \\\n",
      "│   < /home/jovyan/.julia/packages/Cairo/CXPG1/deps/src/gettext-0.18.2/gettext-tools/../build-aux/snippet/unused-parameter.h \\\n",
      "│   > unused-parameter.h-t && \\\n",
      "│ mv unused-parameter.h-t unused-parameter.h\n",
      "│ Makefile:4108: recipe for target 'unused-parameter.h' failed\n",
      "│ make[3]: *** [unused-parameter.h] Interrupt\n",
      "│ Makefile:4091: recipe for target 'arg-nonnull.h' failed\n",
      "│ make[3]: *** [arg-nonnull.h] Interrupt\n",
      "│ Makefile:4080: recipe for target 'test-posix_spawn1.sh' failed\n",
      "│ make[3]: *** [test-posix_spawn1.sh] Interrupt\n",
      "│ Makefile:4084: recipe for target 'test-posix_spawn2.sh' failed\n",
      "│ make[3]: *** [test-posix_spawn2.sh] Interrupt\n",
      "│ Makefile:4099: recipe for target 'c++defs.h' failed\n",
      "│ make[3]: *** [c++defs.h] Interrupt\n",
      "│ Makefile:1660: recipe for target 'all-recursive' failed\n",
      "│ make[2]: *** [all-recursive] Interrupt\n",
      "│ Makefile:1525: recipe for target 'all' failed\n",
      "│ make[1]: *** [all] Interrupt\n",
      "│ Makefile:315: recipe for target 'all-recursive' failed\n",
      "│ make: *** [all-recursive] Interrupt\n",
      "│ [ Info: Attempting to create directory /home/jovyan/.julia/packages/Cairo/CXPG1/deps/downloads\n",
      "│ [ Info: Downloading file http://ftp.gnu.org/pub/gnu/gettext/gettext-0.18.2.tar.gz\n",
      "│ [ Info: Done downloading file http://ftp.gnu.org/pub/gnu/gettext/gettext-0.18.2.tar.gz\n",
      "│ [ Info: Attempting to create directory /home/jovyan/.julia/packages/Cairo/CXPG1/deps/src\n",
      "│ [ Info: Attempting to create directory /home/jovyan/.julia/packages/Cairo/CXPG1/deps\n",
      "│ [ Info: Directory /home/jovyan/.julia/packages/Cairo/CXPG1/deps already exists\n",
      "│ [ Info: Attempting to create directory /home/jovyan/.julia/packages/Cairo/CXPG1/deps/builds/gettext\n",
      "│ [ Info: Changing directory to /home/jovyan/.julia/packages/Cairo/CXPG1/deps/builds/gettext\n",
      "│ [ Info: Changing directory to /home/jovyan/.julia/packages/Cairo/CXPG1/deps/builds/gettext\n",
      "│ ERROR: LoadError: InterruptException:\n",
      "│ Stacktrace:\n",
      "│  [1] process_events at ./libuv.jl:98 [inlined]\n",
      "│  [2] wait() at ./event.jl:246\n",
      "│  [3] wait(::Condition) at ./event.jl:46\n",
      "│  [4] stream_wait(::Base.Process, ::Condition) at ./stream.jl:47\n",
      "│  [5] wait at ./process.jl:830 [inlined]\n",
      "│  [6] success at ./process.jl:679 [inlined]\n",
      "│  [7] #run#505(::Bool, ::Function, ::Cmd) at ./process.jl:653\n",
      "│  [8] run(::Cmd) at ./process.jl:651\n",
      "│  [9] macro expansion at ./logging.jl:308 [inlined]\n",
      "│  [10] run(::BinDeps.SynchronousStepCollection) at /home/jovyan/.julia/packages/BinDeps/ZEval/src/BinDeps.jl:518\n",
      "│  [11] run(::FileRule) at /home/jovyan/.julia/packages/BinDeps/ZEval/src/BinDeps.jl:483\n",
      "│  [12] macro expansion at ./logging.jl:308 [inlined]\n",
      "│  [13] run(::BinDeps.SynchronousStepCollection) at /home/jovyan/.julia/packages/BinDeps/ZEval/src/BinDeps.jl:518\n",
      "│  [14] macro expansion at ./logging.jl:308 [inlined]\n",
      "│  [15] run(::BinDeps.SynchronousStepCollection) at /home/jovyan/.julia/packages/BinDeps/ZEval/src/BinDeps.jl:518\n",
      "│  [16] satisfy!(::BinDeps.LibraryDependency, ::Array{DataType,1}) at /home/jovyan/.julia/packages/BinDeps/ZEval/src/dependencies.jl:944\n",
      "│  [17] satisfy!(::BinDeps.LibraryGroup, ::Array{DataType,1}) at /home/jovyan/.julia/packages/BinDeps/ZEval/src/dependencies.jl:910\n",
      "│  [18] satisfy!(::BinDeps.LibraryGroup) at /home/jovyan/.julia/packages/BinDeps/ZEval/src/dependencies.jl:874\n",
      "│  [19] top-level scope at /home/jovyan/.julia/packages/BinDeps/ZEval/src/dependencies.jl:977\n",
      "│  [20] include at ./boot.jl:317 [inlined]\n",
      "│  [21] include_relative(::Module, ::String) at ./loading.jl:1038\n",
      "│  [22] include(::Module, ::String) at ./sysimg.jl:29\n",
      "│  [23] include(::String) at ./client.jl:388\n",
      "│  [24] top-level scope at none:0\n",
      "│ in expression starting at /home/jovyan/.julia/packages/Cairo/CXPG1/deps/build.jl:165\n",
      "│ \n",
      "│ Full log at /home/jovyan/.julia/packages/Cairo/CXPG1/deps/build.log\n",
      "└ @ Pkg.Operations /buildworker/worker/package_linux64/build/usr/share/julia/stdlib/v1.0/Pkg/src/Operations.jl:1068\n"
     ]
    },
    {
     "name": "stdout",
     "output_type": "stream",
     "text": [
      "\u001b[32m\u001b[1m  Building\u001b[22m\u001b[39m Gtk ──→ `~/.julia/packages/Gtk/ADDrn/deps/build.log`\n",
      "\u001b[32m\u001b[1m Resolving\u001b[22m\u001b[39m package versions...\n",
      "\u001b[32m\u001b[1m  Updating\u001b[22m\u001b[39m `~/.julia/environments/v1.0/Project.toml`\n",
      " \u001b[90m [ade2ca70]\u001b[39m\u001b[92m + Dates \u001b[39m\n",
      "\u001b[32m\u001b[1m  Updating\u001b[22m\u001b[39m `~/.julia/environments/v1.0/Manifest.toml`\n",
      "\u001b[90m [no changes]\u001b[39m\n",
      "\u001b[32m\u001b[1m  Updating\u001b[22m\u001b[39m registry at `~/.julia/registries/General`\n",
      "\u001b[32m\u001b[1m  Updating\u001b[22m\u001b[39m git-repo `https://github.com/JuliaRegistries/General.git`\n",
      "\u001b[?25l\u001b[2K\u001b[?25h\u001b[32m\u001b[1m Resolving\u001b[22m\u001b[39m package versions...\n",
      "\u001b[32m\u001b[1m  Updating\u001b[22m\u001b[39m `~/.julia/environments/v1.0/Project.toml`\n",
      "\u001b[90m [no changes]\u001b[39m\n",
      "\u001b[32m\u001b[1m  Updating\u001b[22m\u001b[39m `~/.julia/environments/v1.0/Manifest.toml`\n",
      "\u001b[90m [no changes]\u001b[39m\n"
     ]
    }
   ],
   "source": [
    "using Pkg\n",
    "Pkg.add(\"CSV\")\n",
    "Pkg.add(\"DataFrames\")\n",
    "Pkg.add(\"CPUTime\")\n",
    "#Pkg.clone(\"https://github.com/schmrlng/CPUTime.jl.git\")\n",
    "Pkg.add(\"ProfileView\")\n",
    "Pkg.add(\"Dates\")\n",
    "Pkg.update()\n",
    "println(\"Starting location: $(Base.source_dir())\")"
   ]
  },
  {
   "cell_type": "code",
   "execution_count": 14,
   "metadata": {},
   "outputs": [
    {
     "name": "stdout",
     "output_type": "stream",
     "text": [
      "Started process at: /home/jovyan/work\n"
     ]
    },
    {
     "data": {
      "text/html": [
       "<table class=\"data-frame\"><thead><tr><th></th><th>VendorID</th><th>tpep_pickup_datetime</th><th>tpep_dropoff_datetime</th><th>passenger_count</th><th>trip_distance</th><th>pickup_longitude</th><th>pickup_latitude</th><th>RateCodeID</th><th>store_and_fwd_flag</th><th>dropoff_longitude</th><th>dropoff_latitude</th><th>payment_type</th><th>fare_amount</th><th>extra</th><th>mta_tax</th><th>tip_amount</th><th>tolls_amount</th><th>total_amount</th></tr><tr><th></th><th>Int64⍰</th><th>DateTime⍰</th><th>DateTime⍰</th><th>Int64⍰</th><th>Float64⍰</th><th>Float64⍰</th><th>Float64⍰</th><th>Int64⍰</th><th>String⍰</th><th>Float64⍰</th><th>Float64⍰</th><th>Int64⍰</th><th>Float64⍰</th><th>Float64⍰</th><th>Float64⍰</th><th>Float64⍰</th><th>Float64⍰</th><th>Float64⍰</th></tr></thead><tbody><tr><th>1</th><td>2</td><td>2015-01-08T22:44:09</td><td>2015-01-08T22:50:56</td><td>1</td><td>1.55</td><td>-73.9877</td><td>40.7243</td><td>1</td><td>N</td><td>-73.9738</td><td>40.7434</td><td>2</td><td>7.5</td><td>0.5</td><td>0.5</td><td>0.0</td><td>0.0</td><td>8.8</td></tr><tr><th>2</th><td>1</td><td>2015-01-08T22:44:09</td><td>2015-01-08T22:51:17</td><td>3</td><td>1.2</td><td>-73.9916</td><td>40.7269</td><td>1</td><td>N</td><td>-74.0041</td><td>40.7211</td><td>2</td><td>7.0</td><td>0.5</td><td>0.5</td><td>0.0</td><td>0.0</td><td>8.3</td></tr><tr><th>3</th><td>1</td><td>2015-01-08T22:44:10</td><td>2015-01-08T22:55:27</td><td>1</td><td>2.4</td><td>-73.9819</td><td>40.7834</td><td>1</td><td>N</td><td>-73.9524</td><td>40.7982</td><td>2</td><td>10.5</td><td>0.5</td><td>0.5</td><td>0.0</td><td>0.0</td><td>11.8</td></tr><tr><th>4</th><td>1</td><td>2015-01-08T22:44:10</td><td>2015-01-08T22:58:09</td><td>1</td><td>7.3</td><td>-73.9731</td><td>40.7436</td><td>1</td><td>N</td><td>-73.9196</td><td>40.832</td><td>2</td><td>21.5</td><td>0.5</td><td>0.5</td><td>0.0</td><td>0.0</td><td>22.8</td></tr><tr><th>5</th><td>1</td><td>2015-01-08T22:44:12</td><td>2015-01-08T22:46:16</td><td>1</td><td>0.4</td><td>-73.9829</td><td>40.7662</td><td>1</td><td>N</td><td>-73.9844</td><td>40.7641</td><td>2</td><td>3.5</td><td>0.5</td><td>0.5</td><td>0.0</td><td>0.0</td><td>4.8</td></tr><tr><th>6</th><td>2</td><td>2015-01-08T22:44:12</td><td>2015-01-08T22:48:33</td><td>1</td><td>0.71</td><td>-73.9825</td><td>40.764</td><td>1</td><td>N</td><td>-73.9746</td><td>40.7578</td><td>2</td><td>5.0</td><td>0.5</td><td>0.5</td><td>0.0</td><td>0.0</td><td>6.3</td></tr></tbody></table>"
      ],
      "text/plain": [
       "6×18 DataFrame. Omitted printing of 15 columns\n",
       "│ Row │ VendorID │ tpep_pickup_datetime │ tpep_dropoff_datetime │\n",
       "│     │ \u001b[90mInt64⍰\u001b[39m   │ \u001b[90mDateTime⍰\u001b[39m            │ \u001b[90mDateTime⍰\u001b[39m             │\n",
       "├─────┼──────────┼──────────────────────┼───────────────────────┤\n",
       "│ 1   │ 2        │ 2015-01-08T22:44:09  │ 2015-01-08T22:50:56   │\n",
       "│ 2   │ 1        │ 2015-01-08T22:44:09  │ 2015-01-08T22:51:17   │\n",
       "│ 3   │ 1        │ 2015-01-08T22:44:10  │ 2015-01-08T22:55:27   │\n",
       "│ 4   │ 1        │ 2015-01-08T22:44:10  │ 2015-01-08T22:58:09   │\n",
       "│ 5   │ 1        │ 2015-01-08T22:44:12  │ 2015-01-08T22:46:16   │\n",
       "│ 6   │ 2        │ 2015-01-08T22:44:12  │ 2015-01-08T22:48:33   │"
      ]
     },
     "execution_count": 14,
     "metadata": {},
     "output_type": "execute_result"
    }
   ],
   "source": [
    "using Dates, Base, CSV, DataFrames, CPUTime, ProfileView, Profile;\n",
    "\n",
    "dfmt = dateformat\"yyyy-mm-dd HH:MM:SS\"\n",
    "\n",
    "println(\"Started process at: $(Base.source_dir())\")\n",
    "df = convert(DataFrame, CSV.read(\"$(Base.source_dir())/data/sample_1000.csv\", dateformat=dfmt))\n",
    "\n",
    "head(df)"
   ]
  },
  {
   "cell_type": "code",
   "execution_count": 15,
   "metadata": {},
   "outputs": [
    {
     "name": "stdout",
     "output_type": "stream",
     "text": [
      "elapsed CPU time: 0.21 seconds\n",
      "  0.288242 seconds (551.40 k allocations: 26.739 MiB, 2.72% gc time)\n"
     ]
    },
    {
     "data": {
      "text/html": [
       "<table class=\"data-frame\"><thead><tr><th></th><th>VendorID</th><th>tpep_pickup_datetime</th><th>tpep_dropoff_datetime</th><th>passenger_count</th></tr><tr><th></th><th>Int64⍰</th><th>DateTime⍰</th><th>DateTime⍰</th><th>Int64⍰</th></tr></thead><tbody><tr><th>1</th><td>1</td><td>2015-01-08T22:44:08</td><td>2015-01-08T23:13:19</td><td>1</td></tr><tr><th>2</th><td>1</td><td>2015-01-08T22:44:09</td><td>2015-01-08T22:51:17</td><td>3</td></tr><tr><th>3</th><td>1</td><td>2015-01-08T22:44:09</td><td>2015-01-08T22:49:55</td><td>1</td></tr><tr><th>4</th><td>1</td><td>2015-01-08T22:44:10</td><td>2015-01-08T22:55:27</td><td>1</td></tr><tr><th>5</th><td>1</td><td>2015-01-08T22:44:10</td><td>2015-01-08T22:58:09</td><td>1</td></tr><tr><th>6</th><td>1</td><td>2015-01-08T22:44:10</td><td>2015-01-08T22:59:18</td><td>2</td></tr></tbody></table>"
      ],
      "text/plain": [
       "6×4 DataFrame. Omitted printing of 1 columns\n",
       "│ Row │ VendorID │ tpep_pickup_datetime │ tpep_dropoff_datetime │\n",
       "│     │ \u001b[90mInt64⍰\u001b[39m   │ \u001b[90mDateTime⍰\u001b[39m            │ \u001b[90mDateTime⍰\u001b[39m             │\n",
       "├─────┼──────────┼──────────────────────┼───────────────────────┤\n",
       "│ 1   │ 1        │ 2015-01-08T22:44:08  │ 2015-01-08T23:13:19   │\n",
       "│ 2   │ 1        │ 2015-01-08T22:44:09  │ 2015-01-08T22:51:17   │\n",
       "│ 3   │ 1        │ 2015-01-08T22:44:09  │ 2015-01-08T22:49:55   │\n",
       "│ 4   │ 1        │ 2015-01-08T22:44:10  │ 2015-01-08T22:55:27   │\n",
       "│ 5   │ 1        │ 2015-01-08T22:44:10  │ 2015-01-08T22:58:09   │\n",
       "│ 6   │ 1        │ 2015-01-08T22:44:10  │ 2015-01-08T22:59:18   │"
      ]
     },
     "execution_count": 15,
     "metadata": {},
     "output_type": "execute_result"
    }
   ],
   "source": [
    "function reduce_dataframe(data_frame)\n",
    "  return data_frame[[:VendorID, :tpep_pickup_datetime, :tpep_dropoff_datetime, :passenger_count]]\n",
    "end\n",
    "\n",
    "df = reduce_dataframe(df)\n",
    "\n",
    "function sort_data()\n",
    "  return sort!(df, [:VendorID, :tpep_pickup_datetime])\n",
    "end\n",
    "\n",
    "@time @CPUtime df = sort_data()\n",
    "\n",
    "head(df)"
   ]
  },
  {
   "cell_type": "code",
   "execution_count": null,
   "metadata": {},
   "outputs": [],
   "source": []
  }
 ],
 "metadata": {
  "kernelspec": {
   "display_name": "Julia 1.0.0",
   "language": "julia",
   "name": "julia-1.0"
  },
  "language_info": {
   "file_extension": ".jl",
   "mimetype": "application/julia",
   "name": "julia",
   "version": "1.0.0"
  }
 },
 "nbformat": 4,
 "nbformat_minor": 2
}
